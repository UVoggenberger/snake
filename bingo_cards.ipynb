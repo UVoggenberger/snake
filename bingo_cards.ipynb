{
 "cells": [
  {
   "cell_type": "markdown",
   "id": "e1212371",
   "metadata": {},
   "source": [
    "# Generate Bingo Cards"
   ]
  },
  {
   "cell_type": "code",
   "execution_count": 1,
   "id": "0202712e",
   "metadata": {},
   "outputs": [],
   "source": [
    "import random\n",
    "import pandas as pd"
   ]
  },
  {
   "cell_type": "code",
   "execution_count": 2,
   "id": "cb14ebae",
   "metadata": {},
   "outputs": [],
   "source": [
    "# ========================================\n",
    "# CONFIGURATION\n",
    "# ========================================\n",
    "\n",
    "PHRASES = [\n",
    "    \"entry 01\",\n",
    "    \"entry 02\",\n",
    "    \"Graph too small to read\",\n",
    "    \"entry 03\",\n",
    "    \"Applying for more funding\",\n",
    "    \"Slide with too much text\",\n",
    "    \"Preliminary data\",\n",
    "    \"We'll publish this soon\",\n",
    "    \"Projector or slideshow issue\",\n",
    "    \"entry 04\",\n",
    "    \"entry 05\",\n",
    "    \"Any questions? (silence)\",\n",
    "    \"entry 06\",\n",
    "    \"AI or machine learning mentioned\",\n",
    "    \"entry 07\",\n",
    "    \"entry 08\",\n",
    "    \"I'll keep it short\",\n",
    "    \"Slide includes a meme\",\n",
    "    \"entry 09\",\n",
    "    \"entry 10\",\n",
    "    \"entry 11\",\n",
    "    \"entry 12\",\n",
    "    \"Someone wears a Festive sweater\",\n",
    "    \"entry 13\"\n",
    "]\n",
    "\n",
    "N_CARDS = 50\n",
    "FREE_POS = (2, 2)\n",
    "\n"
   ]
  },
  {
   "cell_type": "code",
   "execution_count": 3,
   "id": "618d3ec7",
   "metadata": {},
   "outputs": [],
   "source": [
    "# ========================================\n",
    "# FUNCTIONS\n",
    "# ========================================\n",
    "\n",
    "def make_card(phrases):\n",
    "    \"\"\"Generate one 5x5 bingo card with a FREE center.\"\"\"\n",
    "    shuffled = random.sample(phrases, len(phrases))\n",
    "    grid = [[\"\" for _ in range(5)] for _ in range(5)]\n",
    "    idx = 0\n",
    "    for r in range(5):\n",
    "        for c in range(5):\n",
    "            if (r, c) == FREE_POS:\n",
    "                grid[r][c] = \"FREE\"\n",
    "            else:\n",
    "                grid[r][c] = shuffled[idx]\n",
    "                idx += 1\n",
    "    return grid\n",
    "\n",
    "\n",
    "def get_winning_lines(card):\n",
    "    \"\"\"Return all 12 winning line sets (as frozensets of phrases).\"\"\"\n",
    "    lines = []\n",
    "    # Rows\n",
    "    for r in range(5):\n",
    "        lines.append(frozenset(card[r]))\n",
    "    # Columns\n",
    "    for c in range(5):\n",
    "        col = [card[r][c] for r in range(5)]\n",
    "        lines.append(frozenset(col))\n",
    "    # Diagonals\n",
    "    diag1 = [card[i][i] for i in range(5)]\n",
    "    diag2 = [card[i][4 - i] for i in range(5)]\n",
    "    lines.append(frozenset(diag1))\n",
    "    lines.append(frozenset(diag2))\n",
    "    return lines"
   ]
  },
  {
   "cell_type": "code",
   "execution_count": 4,
   "id": "70d2a357",
   "metadata": {},
   "outputs": [
    {
     "name": "stdout",
     "output_type": "stream",
     "text": [
      "Generated 50 unique cards after 59 attempts.\n",
      "Total unique winning lines stored: 600\n",
      "Saved all cards as bingo_card_XX.csv files.\n"
     ]
    }
   ],
   "source": [
    "# ========================================\n",
    "# CARD GENERATION WITH UNIQUE WINNING LINES\n",
    "# ========================================\n",
    "\n",
    "cards = []\n",
    "unique_lines = set()\n",
    "attempts = 0\n",
    "\n",
    "while len(cards) < N_CARDS:\n",
    "    attempts += 1\n",
    "    card = make_card(PHRASES)\n",
    "    lines = get_winning_lines(card)\n",
    "    # Check if any line duplicates an existing one\n",
    "    if any(line in unique_lines for line in lines):\n",
    "        continue  # discard this card and try again\n",
    "    # Add all its lines to the global set\n",
    "    unique_lines.update(lines)\n",
    "    cards.append(card)\n",
    "\n",
    "print(f\"Generated {len(cards)} unique cards after {attempts} attempts.\")\n",
    "print(f\"Total unique winning lines stored: {len(unique_lines)}\")\n",
    "\n",
    "# ========================================\n",
    "# SAVE CARDS\n",
    "# ========================================\n",
    "\n",
    "for i, card in enumerate(cards, 1):\n",
    "    df = pd.DataFrame(card)\n",
    "    df.to_csv(f\"./bingo_cards/bingo_card_{i:02d}.csv\", index=False, header=False)\n",
    "\n",
    "print(\"Saved all cards as bingo_card_XX.csv files.\")"
   ]
  },
  {
   "cell_type": "code",
   "execution_count": null,
   "id": "0770ecae",
   "metadata": {},
   "outputs": [],
   "source": []
  },
  {
   "cell_type": "markdown",
   "id": "5dda0df9",
   "metadata": {},
   "source": [
    "# Create PDFs"
   ]
  },
  {
   "cell_type": "code",
   "execution_count": 5,
   "id": "b5e4e625",
   "metadata": {},
   "outputs": [],
   "source": [
    "from reportlab.lib.pagesizes import A4\n",
    "from reportlab.lib import colors\n",
    "from reportlab.lib.units import cm\n",
    "from reportlab.pdfgen import canvas\n",
    "\n",
    "import glob\n"
   ]
  },
  {
   "cell_type": "code",
   "execution_count": 6,
   "id": "fd80d030",
   "metadata": {},
   "outputs": [
    {
     "name": "stderr",
     "output_type": "stream",
     "text": [
      "<>:21: SyntaxWarning: invalid escape sequence '\\ '\n",
      "<>:23: SyntaxWarning: invalid escape sequence '\\)'\n",
      "<>:21: SyntaxWarning: invalid escape sequence '\\ '\n",
      "<>:23: SyntaxWarning: invalid escape sequence '\\)'\n",
      "/tmp/ipykernel_2351576/203853623.py:21: SyntaxWarning: invalid escape sequence '\\ '\n",
      "  \" /,..___\\ \",\n",
      "/tmp/ipykernel_2351576/203853623.py:23: SyntaxWarning: invalid escape sequence '\\)'\n",
      "  \"  (/-@-@-\\)\",\n"
     ]
    }
   ],
   "source": [
    "# ========================================\n",
    "# CONFIGURATION\n",
    "# ========================================\n",
    "CARD_SIZE = 5\n",
    "CELL_SIZE = 1.8 * cm\n",
    "FONT_SIZE = 8\n",
    "TITLE_FONT_SIZE = 14\n",
    "OUTPUT_PDF = \"bingo_cards_two_per_page_fixed.pdf\"\n",
    "\n",
    "# Colors\n",
    "LINE_COLOR = colors.darkgreen\n",
    "FREE_COLOR = colors.lightgreen\n",
    "TEXT_COLOR = colors.black\n",
    "TITLE_COLOR = colors.darkred\n",
    "\n",
    "# Left side text\n",
    "LEFT_TEXT = [\n",
    "    \"Welcome to the Institute Assembly Bingo!\",\n",
    "    \"\",\n",
    "    \"  .-''-.\",\n",
    "    \" /,..___\\ \",\n",
    "    \"() {_____}\",\n",
    "    \"  (/-@-@-\\)\",\n",
    "    \"  {`-=^=-'}\",\n",
    "    \"  {  `-'  } \",\n",
    "    \"   {     }\",\n",
    "    \"    `---'\",\n",
    "    \"\",\n",
    "    \"Instructions:\",\n",
    "    \"- Listen carefully during the assembly.\",\n",
    "    \"- Check your boxes on the right-side\",\n",
    "    \"  card as they are mentioned.\",\n",
    "    \"- First one to get five in a row shouts 'BINGO!'\",\n",
    "    \"\",\n",
    "    \"Win the extraordinaire privilege to chose \",\n",
    "    \"your Secret Santa gift first!\",\n",
    "    \"Have fun and enjoy the Christmas party!\"\n",
    "]\n",
    "\n",
    "FREE_POS = (2, 2)  # center cell\n",
    "\n",
    "# Horizontal positions\n",
    "LEFT_X = 1.5 * cm\n",
    "RIGHT_X = 11 * cm  # right half for bingo card\n",
    "\n",
    "# Vertical positions for top and bottom cards\n",
    "PAGE_HEIGHT = A4[1]\n",
    "TOP_Y = PAGE_HEIGHT - 4 * cm  # start 4cm from top\n",
    "BOTTOM_Y = PAGE_HEIGHT / 2 - 1 * cm\n",
    "\n"
   ]
  },
  {
   "cell_type": "code",
   "execution_count": 7,
   "id": "f3407389",
   "metadata": {},
   "outputs": [
    {
     "name": "stdout",
     "output_type": "stream",
     "text": [
      "Loaded 50 cards for PDF output.\n"
     ]
    }
   ],
   "source": [
    "# ========================================\n",
    "# LOAD CARDS\n",
    "# ========================================\n",
    "card_files = sorted(glob.glob(\"./bingo_cards/bingo_card_*.csv\"))\n",
    "cards = [pd.read_csv(f, header=None).values.tolist() for f in card_files]\n",
    "print(f\"Loaded {len(cards)} cards for PDF output.\")"
   ]
  },
  {
   "cell_type": "code",
   "execution_count": 8,
   "id": "8b05a721",
   "metadata": {},
   "outputs": [],
   "source": [
    "# ========================================\n",
    "# DRAW FUNCTIONS\n",
    "# ========================================\n",
    "def draw_card(c, card, x0, y0, card_num):\n",
    "    # Draw title above the grid\n",
    "    c.setFont(\"Helvetica-Bold\", TITLE_FONT_SIZE)\n",
    "    c.setFillColor(TITLE_COLOR)\n",
    "    c.drawCentredString(x0 + CARD_SIZE*CELL_SIZE/2, y0 + CARD_SIZE*CELL_SIZE + 0.5*cm, f\"BINGO #{card_num}\")\n",
    "\n",
    "    # Draw grid\n",
    "    c.setStrokeColor(LINE_COLOR)\n",
    "    for i in range(CARD_SIZE + 1):\n",
    "        c.line(x0, y0 + i*CELL_SIZE, x0 + CARD_SIZE*CELL_SIZE, y0 + i*CELL_SIZE)\n",
    "        c.line(x0 + i*CELL_SIZE, y0, x0 + i*CELL_SIZE, y0 + CARD_SIZE*CELL_SIZE)\n",
    "\n",
    "    # Fill cells\n",
    "    for r in range(CARD_SIZE):\n",
    "        for col in range(CARD_SIZE):\n",
    "            text = card[r][col]\n",
    "            cx = x0 + (col + 0.5)*CELL_SIZE\n",
    "            cy = y0 + (r + 0.5)*CELL_SIZE\n",
    "\n",
    "            if text == \"FREE\":\n",
    "                c.setFillColor(FREE_COLOR)\n",
    "                c.rect(x0 + col*CELL_SIZE, y0 + r*CELL_SIZE, CELL_SIZE, CELL_SIZE, fill=1, stroke=0)\n",
    "                c.setFillColor(TEXT_COLOR)\n",
    "\n",
    "            # Wrap text\n",
    "            words = text.split()\n",
    "            lines = []\n",
    "            line = \"\"\n",
    "            for w in words:\n",
    "                if len(line + \" \" + w) > 10:\n",
    "                    lines.append(line.strip())\n",
    "                    line = w\n",
    "                else:\n",
    "                    line += \" \" + w\n",
    "            if line:\n",
    "                lines.append(line.strip())\n",
    "\n",
    "            # Adjust font size for many lines\n",
    "            base_font = FONT_SIZE\n",
    "            while len(lines) > 3 and base_font > 6:\n",
    "                base_font -= 1\n",
    "            c.setFont(\"Helvetica\", base_font)\n",
    "\n",
    "            # Vertical centering\n",
    "            line_height = base_font * 1.1\n",
    "            total_height = line_height * len(lines)\n",
    "            start_y = cy - total_height / 2 + line_height * 0.3\n",
    "            for i, line in enumerate(lines):\n",
    "                c.setFillColor(TEXT_COLOR)\n",
    "                c.drawCentredString(cx, start_y + (len(lines)-1-i)*line_height, line)\n",
    "\n",
    "\n",
    "def draw_left_text(c, x0, y0, text_lines):\n",
    "    c.setFont(\"Courier\", 7)\n",
    "    c.setFillColor(TEXT_COLOR)\n",
    "    line_height = 12\n",
    "    for i, line in enumerate(text_lines):\n",
    "        c.drawString(x0, y0 + (len(text_lines)-1-i)*line_height, line)\n"
   ]
  },
  {
   "cell_type": "code",
   "execution_count": 9,
   "id": "8ba4627e",
   "metadata": {},
   "outputs": [
    {
     "name": "stdout",
     "output_type": "stream",
     "text": [
      "Saved printable PDF with 50 cards → bingo_cards_two_per_page_fixed.pdf\n"
     ]
    }
   ],
   "source": [
    "# ========================================\n",
    "# CREATE PDF\n",
    "# ========================================\n",
    "c = canvas.Canvas(OUTPUT_PDF, pagesize=A4)\n",
    "\n",
    "i = 0\n",
    "while i < len(cards):\n",
    "    # Top card\n",
    "    draw_left_text(c, LEFT_X, TOP_Y - CELL_SIZE*CARD_SIZE + 0*cm, LEFT_TEXT)\n",
    "    draw_card(c, cards[i], RIGHT_X, TOP_Y - CELL_SIZE*CARD_SIZE - 0.5*cm, i+1)\n",
    "    i += 1\n",
    "\n",
    "    # Bottom card\n",
    "    if i < len(cards):\n",
    "        draw_left_text(c, LEFT_X, BOTTOM_Y - CELL_SIZE*CARD_SIZE + 0*cm, LEFT_TEXT)\n",
    "        draw_card(c, cards[i], RIGHT_X, BOTTOM_Y - CELL_SIZE*CARD_SIZE - 0.5*cm, i+1)\n",
    "        i += 1\n",
    "\n",
    "    c.showPage()\n",
    "\n",
    "c.save()\n",
    "print(f\"Saved printable PDF with {len(cards)} cards → {OUTPUT_PDF}\")\n"
   ]
  },
  {
   "cell_type": "code",
   "execution_count": null,
   "id": "2bb563dd",
   "metadata": {},
   "outputs": [],
   "source": []
  }
 ],
 "metadata": {
  "kernelspec": {
   "display_name": "uv12",
   "language": "python",
   "name": "python3"
  },
  "language_info": {
   "codemirror_mode": {
    "name": "ipython",
    "version": 3
   },
   "file_extension": ".py",
   "mimetype": "text/x-python",
   "name": "python",
   "nbconvert_exporter": "python",
   "pygments_lexer": "ipython3",
   "version": "3.12.3"
  }
 },
 "nbformat": 4,
 "nbformat_minor": 5
}
